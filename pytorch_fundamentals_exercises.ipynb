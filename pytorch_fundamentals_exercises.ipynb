{
 "cells": [
  {
   "cell_type": "markdown",
   "id": "697bc782",
   "metadata": {},
   "source": [
    "# 00. PyTorch Fundamentals Exercises"
   ]
  },
  {
   "cell_type": "markdown",
   "id": "494ee26f",
   "metadata": {},
   "source": [
    "### 1. Documentation reading\n",
    "Read the documentation for `torch.Tensor` and `torch.cuda`."
   ]
  },
  {
   "cell_type": "code",
   "execution_count": 7,
   "id": "f7490c19",
   "metadata": {},
   "outputs": [],
   "source": [
    "# No code solution (reading)"
   ]
  },
  {
   "cell_type": "markdown",
   "id": "159651c8",
   "metadata": {},
   "source": [
    "### 2. Create a random tensor with shape `(7, 7)`."
   ]
  },
  {
   "cell_type": "code",
   "execution_count": 8,
   "id": "98f4b748",
   "metadata": {},
   "outputs": [
    {
     "data": {
      "text/plain": [
       "tensor([[0.5932, 0.1123, 0.1535, 0.2417, 0.7262, 0.7011, 0.2038],\n",
       "        [0.6511, 0.7745, 0.4369, 0.5191, 0.6159, 0.8102, 0.9801],\n",
       "        [0.1147, 0.3168, 0.6965, 0.9143, 0.9351, 0.9412, 0.5995],\n",
       "        [0.0652, 0.5460, 0.1872, 0.0340, 0.9442, 0.8802, 0.0012],\n",
       "        [0.5936, 0.4158, 0.4177, 0.2711, 0.6923, 0.2038, 0.6833],\n",
       "        [0.7529, 0.8579, 0.6870, 0.0051, 0.1757, 0.7497, 0.6047],\n",
       "        [0.1100, 0.2121, 0.9704, 0.8369, 0.2820, 0.3742, 0.0237]])"
      ]
     },
     "execution_count": 8,
     "metadata": {},
     "output_type": "execute_result"
    }
   ],
   "source": [
    "import torch\n",
    "random_tensor = torch.rand(size=(7, 7))\n",
    "random_tensor"
   ]
  },
  {
   "cell_type": "markdown",
   "id": "bbb51181",
   "metadata": {},
   "source": [
    "### 3. Perform a matrix multiplication with another random tensor `(1, 7)`."
   ]
  },
  {
   "cell_type": "code",
   "execution_count": 9,
   "id": "9e6fce67",
   "metadata": {},
   "outputs": [
    {
     "data": {
      "text/plain": [
       "tensor([[1.2239],\n",
       "        [2.0847],\n",
       "        [1.9002],\n",
       "        [0.9408],\n",
       "        [1.5213],\n",
       "        [1.3606],\n",
       "        [0.8780]])"
      ]
     },
     "execution_count": 9,
     "metadata": {},
     "output_type": "execute_result"
    }
   ],
   "source": [
    "rand_tensor = torch.rand(size=(1, 7))\n",
    "result = torch.mm(random_tensor, rand_tensor.T)\n",
    "result"
   ]
  },
  {
   "cell_type": "markdown",
   "id": "8e9eb642",
   "metadata": {},
   "source": [
    "### 4. Set the random seed to 0 and repeat 2 & 3."
   ]
  },
  {
   "cell_type": "code",
   "execution_count": 10,
   "id": "82d250b8",
   "metadata": {},
   "outputs": [
    {
     "data": {
      "text/plain": [
       "(tensor([[1.8542],\n",
       "         [1.9611],\n",
       "         [2.2884],\n",
       "         [3.0481],\n",
       "         [1.7067],\n",
       "         [2.5290],\n",
       "         [1.7989]]),\n",
       " torch.Size([7, 1]))"
      ]
     },
     "execution_count": 10,
     "metadata": {},
     "output_type": "execute_result"
    }
   ],
   "source": [
    "torch.manual_seed(0)\n",
    "random_tensor = torch.rand(size=(7, 7))\n",
    "rand_tensor = torch.rand(size=(1, 7))\n",
    "result = torch.mm(random_tensor, rand_tensor.T)\n",
    "result, result.shape"
   ]
  },
  {
   "cell_type": "markdown",
   "id": "92eac2c1",
   "metadata": {},
   "source": [
    "### 5. Set GPU random seed to 1234."
   ]
  },
  {
   "cell_type": "code",
   "execution_count": 11,
   "id": "0595e7c3",
   "metadata": {},
   "outputs": [
    {
     "data": {
      "text/plain": [
       "device(type='cpu')"
      ]
     },
     "execution_count": 11,
     "metadata": {},
     "output_type": "execute_result"
    }
   ],
   "source": [
    "torch.cuda.manual_seed(1234)\n",
    "tensor = torch.tensor([2, 3], device='cpu')\n",
    "tensor.device"
   ]
  },
  {
   "cell_type": "markdown",
   "id": "22d3c63c",
   "metadata": {},
   "source": [
    "### 6. Create two random tensors of shape `(2, 3)` on GPU."
   ]
  },
  {
   "cell_type": "code",
   "execution_count": 12,
   "id": "46012f3a",
   "metadata": {},
   "outputs": [
    {
     "name": "stdout",
     "output_type": "stream",
     "text": [
      "Device: cpu\n",
      "tensor([[0.0290, 0.4019, 0.2598],\n",
      "        [0.3666, 0.0583, 0.7006]]) tensor([[0.0518, 0.4681, 0.6738],\n",
      "        [0.3315, 0.7837, 0.5631]])\n"
     ]
    }
   ],
   "source": [
    "torch.manual_seed(1234)\n",
    "device = 'cuda' if torch.cuda.is_available() else 'cpu'\n",
    "tensor_a = torch.rand(size=(2, 3), device=device)\n",
    "tensor_b = torch.rand(size=(2, 3), device=device)\n",
    "print(f'Device: {device}')\n",
    "print(tensor_a, tensor_b)"
   ]
  },
  {
   "cell_type": "markdown",
   "id": "71617b15",
   "metadata": {},
   "source": [
    "### 7. Perform matrix multiplication on tensors from 6."
   ]
  },
  {
   "cell_type": "code",
   "execution_count": 13,
   "id": "eacf3f82",
   "metadata": {},
   "outputs": [
    {
     "data": {
      "text/plain": [
       "(tensor([[0.3647, 0.4709],\n",
       "         [0.5184, 0.5617]]),\n",
       " torch.Size([2, 2]))"
      ]
     },
     "execution_count": 13,
     "metadata": {},
     "output_type": "execute_result"
    }
   ],
   "source": [
    "result = torch.mm(tensor_a, tensor_b.T)\n",
    "result, result.shape"
   ]
  },
  {
   "cell_type": "markdown",
   "id": "78adaa7b",
   "metadata": {},
   "source": [
    "### 8. Find max and min values of the result."
   ]
  },
  {
   "cell_type": "code",
   "execution_count": 14,
   "id": "29611f9c",
   "metadata": {},
   "outputs": [
    {
     "data": {
      "text/plain": [
       "(tensor(0.5617), tensor(0.3647))"
      ]
     },
     "execution_count": 14,
     "metadata": {},
     "output_type": "execute_result"
    }
   ],
   "source": [
    "torch.max(result), torch.min(result)"
   ]
  },
  {
   "cell_type": "markdown",
   "id": "85c367c3",
   "metadata": {},
   "source": [
    "### 9. Find max and min indices."
   ]
  },
  {
   "cell_type": "code",
   "execution_count": 15,
   "id": "02d4b412",
   "metadata": {},
   "outputs": [
    {
     "name": "stdout",
     "output_type": "stream",
     "text": [
      "tensor(3)\n",
      "tensor(0)\n"
     ]
    }
   ],
   "source": [
    "print(result.argmax())\n",
    "print(result.argmin())"
   ]
  },
  {
   "cell_type": "markdown",
   "id": "368488c3",
   "metadata": {},
   "source": [
    "### 10. Create a random tensor `(1,1,1,10)` and remove all 1 dimensions."
   ]
  },
  {
   "cell_type": "code",
   "execution_count": null,
   "id": "5e643242",
   "metadata": {},
   "outputs": [
    {
     "name": "stdout",
     "output_type": "stream",
     "text": [
      "tensor([[[[0.5349, 0.1988, 0.6592, 0.6569, 0.2328, 0.4251, 0.2071, 0.6297,\n",
      "           0.3653, 0.8513]]]]) torch.Size([1, 1, 1, 10])\n",
      "tensor([0.5349, 0.1988, 0.6592, 0.6569, 0.2328, 0.4251, 0.2071, 0.6297, 0.3653,\n",
      "        0.8513]) torch.Size([10])\n"
     ]
    }
   ],
   "source": [
    "torch.manual_seed(7)\n",
    "x = torch.rand(size=(1, 1, 1, 10))\n",
    "print(x, x.shape)\n",
    "x_squeezed = x.squeeze()\n",
    "print(x_squeezed, x_squeezed.shape)\n"
   ]
  }
 ],
 "metadata": {
  "kernelspec": {
   "display_name": "Python 3",
   "language": "python",
   "name": "python3"
  },
  "language_info": {
   "codemirror_mode": {
    "name": "ipython",
    "version": 3
   },
   "file_extension": ".py",
   "mimetype": "text/x-python",
   "name": "python",
   "nbconvert_exporter": "python",
   "pygments_lexer": "ipython3",
   "version": "3.11.9"
  }
 },
 "nbformat": 4,
 "nbformat_minor": 5
}
